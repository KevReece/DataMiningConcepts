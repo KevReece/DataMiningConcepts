{
 "cells": [
  {
   "cell_type": "markdown",
   "metadata": {},
   "source": [
    "# Naive Bayes\n",
    "\n",
    "Goal: a classifier of text blocks (blank line separated) into classes of alice in wonderland or shakespeare. Specifically using a Naive Bayes classifier.\n",
    "\n",
    "Naive Bayes is a simple probabilistic classifier based on the frequency of words in a document, as associated to a class."
   ]
  },
  {
   "cell_type": "code",
   "execution_count": 17,
   "metadata": {},
   "outputs": [],
   "source": [
    "import random\n",
    "import math\n",
    "import matplotlib.pyplot as plt \n",
    "from sklearn.metrics import ConfusionMatrixDisplay, balanced_accuracy_score, accuracy_score\n",
    "\n",
    "\n",
    "random.seed(42)"
   ]
  },
  {
   "cell_type": "markdown",
   "metadata": {},
   "source": [
    "\n",
    "# Prepare data\n",
    "\n",
    "1. Load the two class documents as blocks of text\n",
    "2. Split into training and test sets\n",
    "3. Determine the vocabulary of the training set"
   ]
  },
  {
   "cell_type": "code",
   "execution_count": 18,
   "metadata": {},
   "outputs": [
    {
     "name": "stdout",
     "output_type": "stream",
     "text": [
      "Loading ../Word2Vec/Alice.txt\n",
      "Loading ../Word2Vec/Shakespear.txt\n"
     ]
    },
    {
     "name": "stdout",
     "output_type": "stream",
     "text": [
      "Training set size: 6011. Test set size: 1504\n",
      "Vocabulary size: 54319\n"
     ]
    }
   ],
   "source": [
    "IS_NOT_SHAKESPEARE = 0\n",
    "IS_SHAKESPEARE = 1\n",
    "\n",
    "def _load_blocks(filename):\n",
    "    print('Loading ' + filename)\n",
    "    all_blocks = []\n",
    "    with open(filename, 'r', encoding=\"mbcs\") as file:\n",
    "        current_block = ''\n",
    "        for line in file:\n",
    "            line = line.strip().casefold()\n",
    "            if len(line) > 0:\n",
    "                current_block = f'{current_block} {line}'\n",
    "            elif len(line) == 0 and len(current_block) > 0:\n",
    "                all_blocks.append(current_block)\n",
    "                current_block = ''\n",
    "    return all_blocks\n",
    "\n",
    "def _training_test_split(data):\n",
    "    TRAINING_SPLIT = 0.8\n",
    "    training_data = data[:int(len(data) * TRAINING_SPLIT)] \n",
    "    test_data = data[int(len(data) * TRAINING_SPLIT):]\n",
    "    return training_data, test_data\n",
    "\n",
    "def _combine_and_shuffle_datasets(dataset_1, dataset_2):\n",
    "    combined_dataset = dataset_1 + dataset_2\n",
    "    return random.sample(combined_dataset, len(combined_dataset))\n",
    "\n",
    "def _load_test_training_data():\n",
    "    alice_dataset = [(block, IS_NOT_SHAKESPEARE) for block in _load_blocks('./datasets/Alice.txt')]\n",
    "    shakespeare_dataset = [(block, IS_SHAKESPEARE) for block in _load_blocks('./datasets/Shakespear.txt')]\n",
    "    training_alice_dataset, test_alice_dataset = _training_test_split(alice_dataset)\n",
    "    training_shakespeare_dataset, test_shakespeare_dataset = _training_test_split(shakespeare_dataset)\n",
    "    training_set = _combine_and_shuffle_datasets(training_alice_dataset, training_shakespeare_dataset)\n",
    "    test_set = _combine_and_shuffle_datasets(test_alice_dataset, test_shakespeare_dataset)\n",
    "    return training_set, test_set\n",
    "\n",
    "training_set, test_set = _load_test_training_data()\n",
    "print(f'Training set size: {len(training_set)}. Test set size: {len(test_set)}')\n",
    "vocabulary = {word for block, _ in training_set for word in block.split()}\n",
    "print(f'Vocabulary size: {len(vocabulary)}')"
   ]
  },
  {
   "cell_type": "markdown",
   "metadata": {},
   "source": [
    "## Train\n",
    "\n",
    "Calculate probabilities of each vocabulary word for each class."
   ]
  },
  {
   "cell_type": "code",
   "execution_count": 82,
   "metadata": {},
   "outputs": [
    {
     "name": "stdout",
     "output_type": "stream",
     "text": [
      "Class probabilities: [0.11661953086008983, 0.8833804691399102]\n",
      "Word probabilities count: 54319\n"
     ]
    }
   ],
   "source": [
    "CLASSES = [IS_NOT_SHAKESPEARE, IS_SHAKESPEARE]\n",
    "\n",
    "def _calculate_probability_of_class(dataset, class_index):\n",
    "    return sum([1 for _, block_class in dataset if block_class == class_index]) / len(dataset)\n",
    "\n",
    "def _calculate_probability_of_word_given_class(dataset_words_frequencies_per_class, class_words_count, vocabulary_size, target_word, class_index, alpha=0.1):\n",
    "    words_in_class_count_plus_laplaces = class_words_count[class_index] + alpha * vocabulary_size\n",
    "    word_in_class_count_plus_laplace = dataset_words_frequencies_per_class[class_index][target_word] + alpha\n",
    "    return word_in_class_count_plus_laplace / words_in_class_count_plus_laplaces\n",
    "    \n",
    "def _calculate_probabilities(dataset):\n",
    "    probability_of_classes = [_calculate_probability_of_class(dataset, class_index) for class_index in CLASSES] \n",
    "    dataset_word_frequencies_per_class = _calculate_word_frequencies_per_class(dataset)\n",
    "    class_words_count = [sum(dataset_word_frequencies_per_class[class_index].values()) for class_index in CLASSES]\n",
    "    probability_of_word_given_class = [\n",
    "        {\n",
    "            word: _calculate_probability_of_word_given_class(dataset_word_frequencies_per_class, class_words_count, len(vocabulary), word, class_index) \n",
    "            for word in vocabulary\n",
    "        }\n",
    "        for class_index in CLASSES\n",
    "    ]\n",
    "    \n",
    "    return probability_of_classes, probability_of_word_given_class\n",
    "\n",
    "def _calculate_word_frequencies_per_class(dataset):\n",
    "    dataset_word_frequencies_per_class = [{word: 0 for word in vocabulary} for _ in CLASSES]\n",
    "    for block, block_class in dataset:\n",
    "        for word in block.split():\n",
    "            dataset_word_frequencies_per_class[block_class][word] += 1\n",
    "    return dataset_word_frequencies_per_class\n",
    "\n",
    "prob_class, prob_word_given_class = _calculate_probabilities(training_set)\n",
    "\n",
    "print(f'Class probabilities: {prob_class}')\n",
    "print(f'Word probabilities count: {len(prob_word_given_class[IS_NOT_SHAKESPEARE])}')"
   ]
  },
  {
   "cell_type": "markdown",
   "metadata": {},
   "source": [
    "## Classify\n",
    "\n",
    "For each test document, calculate the likelihood it is from each class, based on word probabilities per class, and choose the class with the highest likelihood.\n",
    "\n",
    "The equation is:\n",
    "\n",
    "$$\n",
    "P(class|doc) = P(class) \\times \\prod_{word \\in doc} P(word|class)\n",
    "$$\n",
    "\n",
    "Or in log form (to avoid the float underflow problem in sequential multiplication of fractions):\n",
    "$$\n",
    "\\log(P(class|doc)) = \\log(P(class)) + \\sum_{word \\in doc} \\log(P(word|class))\n",
    "$$\n",
    "\n",
    "Note that $\\log(P(class|doc))$ is proportional to $P(class|doc)$, so we can use the log likelihoods to compare classes.\n",
    "\n",
    "Where:\n",
    "- $P(class)$ is the prior probability of the class\n",
    "- $P(word|class)$ is the probability of the word given the class\n",
    "- $P(class|doc)$ is the posterior probability of the class given the document"
   ]
  },
  {
   "cell_type": "code",
   "execution_count": 84,
   "metadata": {},
   "outputs": [
    {
     "name": "stdout",
     "output_type": "stream",
     "text": [
      "Accuracy: 0.9634308510638298. Balanced accuracy: 0.8462144030668127\n"
     ]
    }
   ],
   "source": [
    "def _calculate_class_likelihood_for_block(vocabulary, prob_word_given_class, prob_class, class_index, block):\n",
    "    log_class_probability = math.log10(prob_class[class_index])\n",
    "    totalled_log_word_probabilities_in_class = sum([math.log10(prob_word_given_class[class_index][word]) for word in block.split() if word in vocabulary])\n",
    "    return log_class_probability + totalled_log_word_probabilities_in_class\n",
    "\n",
    "def _calculate_block_likelihoods(test_set, vocabulary, prob_word_given_class, prob_class):\n",
    "    return [(\n",
    "        [\n",
    "            _calculate_class_likelihood_for_block(vocabulary, prob_word_given_class, prob_class, class_index, block)\n",
    "            for class_index in CLASSES\n",
    "        ], \n",
    "        actual_class) \n",
    "    for block, actual_class in test_set \n",
    "]\n",
    "\n",
    "def _map_likelihoods_to_predictions(block_likelihoods):\n",
    "    return [\n",
    "    ( \n",
    "        (IS_SHAKESPEARE if likelihoods[0] < likelihoods[1] else IS_NOT_SHAKESPEARE), \n",
    "        actual_class)\n",
    "    for likelihoods, actual_class in block_likelihoods]\n",
    "\n",
    "\n",
    "block_likelihoods = _calculate_block_likelihoods(test_set, vocabulary, prob_word_given_class, prob_class)\n",
    "block_class_predictions_and_actuals = _map_likelihoods_to_predictions(block_likelihoods)\n",
    "predicted_class = [predicted_class for predicted_class, _ in  block_class_predictions_and_actuals]\n",
    "actual_class = [actual_class for _, actual_class in  block_class_predictions_and_actuals]\n",
    "accuracy = accuracy_score(actual_class, predicted_class)\n",
    "balanced_accuracy = balanced_accuracy_score(actual_class, predicted_class)\n",
    "print(f'Accuracy: {accuracy}. Balanced accuracy: {balanced_accuracy}')"
   ]
  },
  {
   "cell_type": "markdown",
   "metadata": {},
   "source": [
    "## Visualise\n",
    "\n",
    "This confusion matrix show that this basic Naive Bayes model is reasonably effective at classifying the two types of file. But there is one notable exception, which is the Alice in Wonderland precision."
   ]
  },
  {
   "cell_type": "code",
   "execution_count": 80,
   "metadata": {},
   "outputs": [
    {
     "data": {
      "image/png": "[encoded data removed]",
      "text/plain": [
       "<Figure size 1500x300 with 3 Axes>"
      ]
     },
     "metadata": {},
     "output_type": "display_data"
    }
   ],
   "source": [
    "CLASS_NAMES = ['Alice', 'Shakespeare']\n",
    "\n",
    "def display_confusion_matrix(ax, class_labels, predicted_class, actual_class, normalize, title):\n",
    "    ConfusionMatrixDisplay.from_predictions(\n",
    "        actual_class,\n",
    "        predicted_class, \n",
    "        display_labels=class_labels, \n",
    "        ax=ax,\n",
    "        normalize=normalize,\n",
    "        colorbar=False)\n",
    "    ax.set_title(title)\n",
    "\n",
    "figure, axes = plt.subplots(1, 3, figsize=(15, 3))\n",
    "display_confusion_matrix(axes[0], CLASS_NAMES, predicted_class, actual_class, normalize=None, title='Absolute classifications')\n",
    "display_confusion_matrix(axes[1], CLASS_NAMES, predicted_class, actual_class, normalize='true', title='Normalised by actual class')\n",
    "display_confusion_matrix(axes[2], CLASS_NAMES, predicted_class, actual_class, normalize='pred', title='Normalised by predicted class')\n",
    "plt.show()"
   ]
  },
  {
   "cell_type": "markdown",
   "metadata": {},
   "source": [
    "# Misclassified documents\n",
    "\n",
    "The following are some of the misclassified documents, which show that the model is struggling to classify the copyright metadata embedded in the Alice in Wonderland text. This is the cause of the low precision for Alice in Wonderland, and could be rectified by cleaning the metadata from the dataset."
   ]
  },
  {
   "cell_type": "code",
   "execution_count": 81,
   "metadata": {},
   "outputs": [
    {
     "name": "stdout",
     "output_type": "stream",
     "text": [
      "Missclassified blocks: 55\n",
      "---\n",
      "Predicted class: 1. Actual class: 0\n",
      "Block:  1.e.3. if an individual project gutenberg-tm electronic work is posted with the permission of the copyright holder, your use and distribution must comply with both paragraphs 1.e.1 through 1.e.7 and any additional terms imposed by the copyright holder. additional terms will be linked to the project gutenberg-tm license for all works posted with the permission of the copyright holder found at the beginning of this work.\n",
      "---\n",
      "Predicted class: 1. Actual class: 0\n",
      "Block:  start: full license\n",
      "---\n",
      "Predicted class: 1. Actual class: 0\n",
      "Block:  1.d. the copyright laws of the place where you are located also govern what you can do with this work. copyright laws in most countries are in a constant state of change. if you are outside the united states, check the laws of your country in addition to the terms of this agreement before downloading, copying, displaying, performing, distributing or creating derivative works based on this work or any other project gutenberg-tm work. the foundation makes no representations concerning the copyright status of any work in any country other than the united states.\n",
      "---\n",
      "Predicted class: 1. Actual class: 0\n",
      "Block:  1.e.7. do not charge a fee for access to, viewing, displaying, performing, copying or distributing any project gutenberg-tm works unless you comply with paragraph 1.e.8 or 1.e.9.\n",
      "---\n",
      "Predicted class: 1. Actual class: 0\n",
      "Block:  the project gutenberg literary archive foundation is a non-profit 501(c)(3) educational corporation organized under the laws of the state of mississippi and granted tax exempt status by the internal revenue service. the foundation's ein or federal tax identification number is 64-6221541. contributions to the project gutenberg literary archive foundation are tax deductible to the full extent permitted by u.s. federal laws and your state's laws.\n"
     ]
    }
   ],
   "source": [
    "test_set_misclassified = [(block, (predicted_class, actual_class)) for (block, (predicted_class, actual_class)) in zip(test_set, block_class_predictions_and_actuals) if predicted_class != actual_class]\n",
    "print(f'Misclassified blocks: {len(test_set_misclassified)}')\n",
    "\n",
    "for block, (predicted_class, actual_class) in test_set_misclassified[:5]:\n",
    "    print('---')\n",
    "    print(f'Predicted class: {predicted_class}. Actual class: {actual_class}')\n",
    "    print(f'Block: {block[0]}')"
   ]
  }
 ],
 "metadata": {
  "kernelspec": {
   "display_name": ".venv",
   "language": "python",
   "name": "python3"
  },
  "language_info": {
   "codemirror_mode": {
    "name": "ipython",
    "version": 3
   },
   "file_extension": ".py",
   "mimetype": "text/x-python",
   "name": "python",
   "nbconvert_exporter": "python",
   "pygments_lexer": "ipython3",
   "version": "3.10.6"
  }
 },
 "nbformat": 4,
 "nbformat_minor": 2
}
